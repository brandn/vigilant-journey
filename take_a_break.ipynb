{
 "cells": [
  {
   "cell_type": "markdown",
   "metadata": {},
   "source": [
    "# 90 minute breaker maker"
   ]
  },
  {
   "cell_type": "code",
   "execution_count": null,
   "metadata": {
    "collapsed": false
   },
   "outputs": [],
   "source": [
    "#import webbrowser -- if using a URL pop-up\n",
    "import time\n",
    "import tkinter as tk\n",
    "from tkinter import ttk"
   ]
  },
  {
   "cell_type": "code",
   "execution_count": null,
   "metadata": {
    "collapsed": true
   },
   "outputs": [],
   "source": [
    "LARGE_FONT= (\"Verdana\", 36)\n",
    "NORM_FONT= (\"Verdana\", 10)\n",
    "SMALL_FONT= (\"Verdana\", 8)"
   ]
  },
  {
   "cell_type": "code",
   "execution_count": null,
   "metadata": {
    "collapsed": true
   },
   "outputs": [],
   "source": [
    "def popupmsg(msg):\n",
    "    popup = tk.Tk()\n",
    "    popup.wm_title(\"Warning!\")\n",
    "    label = ttk.Label(popup, text=msg, font=LARGE_FONT)\n",
    "    label.pack(side=\"top\", fill=\"x\", pady=10)\n",
    "    B1 = ttk.Button(popup, text=\"Reset Clock\", command = popup.destroy)\n",
    "    B1.pack()\n",
    "    #make the winodw appear at the top\n",
    "    popup.lift()\n",
    "    popup.attributes('-topmost',True)\n",
    "    popup.after_idle(popup.attributes,'-topmost',False)\n",
    "    popup.mainloop()"
   ]
  },
  {
   "cell_type": "code",
   "execution_count": null,
   "metadata": {
    "collapsed": false
   },
   "outputs": [],
   "source": [
    "# open web browser every 30 minute\n",
    "current_time = time.ctime() # get current time\n",
    "print (\"start time = \" + current_time)\n",
    "i = 0\n",
    "#how many times to open 9 hour days?\n",
    "#9*60*60=32400 seconds a day/5400 for 90 min breaks -> loop 6 times\n",
    "#fill this in later with a question for the user \n",
    "while(i<6):\n",
    "    #5400 = 90 minute windows\n",
    "    time.sleep(5400)\n",
    "    popupmsg(\"You have been sitting too long!\")\n",
    "    #URL open options if using webbrowser pop up\n",
    "    #url=\"https://www.youtube.com/watch?v=spb2349fZiM\" \n",
    "    #webbrowser.open(url)\n",
    "    i=i+1"
   ]
  },
  {
   "cell_type": "code",
   "execution_count": null,
   "metadata": {
    "collapsed": true
   },
   "outputs": [],
   "source": []
  }
 ],
 "metadata": {
  "anaconda-cloud": {},
  "kernelspec": {
   "display_name": "Python [conda root]",
   "language": "python",
   "name": "conda-root-py"
  },
  "language_info": {
   "codemirror_mode": {
    "name": "ipython",
    "version": 3
   },
   "file_extension": ".py",
   "mimetype": "text/x-python",
   "name": "python",
   "nbconvert_exporter": "python",
   "pygments_lexer": "ipython3",
   "version": "3.5.2"
  }
 },
 "nbformat": 4,
 "nbformat_minor": 1
}
